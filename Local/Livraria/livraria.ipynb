{
 "cells": [
  {
   "cell_type": "code",
   "execution_count": 39,
   "metadata": {},
   "outputs": [],
   "source": [
    "import bd\n",
    "import random as r\n",
    "\n",
    "mydb = bd.connect()\n",
    "mycursor = mydb.cursor()"
   ]
  },
  {
   "cell_type": "code",
   "execution_count": 40,
   "metadata": {},
   "outputs": [],
   "source": [
    "nome = [\"Miguel\", \"Sophia\",\t\"Davi\",\t\"Alice\", \"Arthur\",\t\"Julia\",\t\"Pedro\",\t\"Isabella\",\t\"Gabriel\",\t\"Manuela\",\t\"Bernardo\",\t\"Laura\",\t\"Lucas\",\t\"Luiza\",\t\"Matheus\",\t\"Valentina\",\t\"Rafael\",\t\"Giovanna\",\t\"Heitor\",\t\"Maria\" ,\"Eduarda\",\t\"Enzo\",\t\"Helena\", \"Guilherme\",\t\"Beatriz\",\t\"Nicolas\",\t\"Maria Luiza\",\t\"Lorenzo\",\t\"Lara\",\t\"Gustavo\",\t\"Mariana\",\t\"Felipe\",\t\"Nicole\",\t\"Samuel\",\t\"Rafaela\",\t\"João Pedro\",\t\"Heloísa\",\t\"Daniel\",\t\"Isadora\",\t\"Vitor\"\t,\"Lívia\",\t\"Leonardo\",\t\"Maria Clara\",\t\"Henrique\",\t\"Ana Clara\",\t\"Theo\",\t\"Lorena\",\t\"Murilo\",\t\"Gabriela\",\t\"Eduardo\",\t\"Yasmin\",\t\"Pedro\",\t\"Isabelly\",\t\"Pietro\", \"PlayOsuGame\", \"JorgeGameplays555\", \"Piton\", \"Onichan\", \"Henrique\"]\n",
    "\n",
    "sobrenome = [\"Almeida\", \"Azevedo\", \"Braga\", \"Barros\", \"Bahiense\", \"Campos\", \"Cardoso\", \"Correia\", \"Castro\", \"Costa\", \"Fontes\" , \"Guimarães\" , \"Magalhães\" , \"Macedo\", \"Matos\", \"Pedreira\", \"Queirós\", \"Ribeiro\", \"Rocha\", \"Siqueira\", \"Serra\", \"Souza\", \"Teixeira\", \"Valle\"]\n",
    "\n",
    "endereco = [\"Adevilson Estevan dos Santos\", \"Água Chata\", \"Ala\", \"Albertina Duarte Leite\", \"Alberto Hinoto\", \"Aldeias Altas\", \"Alexandre Kiss\", \"Altemar Dutra\", \"Altina Alves Brogna\", \"Alto Longá\", \"Ângelo Roberto Orsomarso\", \"Antônio Mestriner\", \"Antônio Tava\", \"Aroazes\", \"Arauá\", \"Atlas\", \"Araucária\", \"Assis Abude\", \"Aveloz\", \"Belgrado\", \"Berilo\", \"Blecaute\", \"Cocaína\", \"Bonsai\", \"Boqueirão dos Cochos\", \"Borba Gato\", \"Botumirim\", \"Branquinha\", \"Caminho Velho\", \"Capelinha\", \"Capibaribe\", \"Carlos Drumond de Andrade\", \"Carmela Thomeu\", \"Catharina Maria de Jesus (Dona)\", \"Caviúna\", \"Cereja do Mato\", \"Chico Mendes\", \"Cícera Adriana Oliveira Cruz\", \"Cícero Dantas\", \"Circular\", \"Colina\", \"Cristalina\", \"Curvelo\", \"Cumbe\", \"Datas\", \"David Nasser\", \"Deise\", \"Demerval Lobão\", \"Deolinda Ramos Bueno\", \"Doze de Fevereiro\", \"Dracena\", \"Duarte Leopoldo e Silva (Dom)\", \"Ecologia\", \"Edmar Bressam\", \"Eduardo Froner\", \"Eliane Mendes Ferreira\", \"Elias Dabarian\", \"Elvis Presley\", \"Elza Gomes\", \"Etelvina\", \"Eucalipto Vermelho\", \"Euráchio Maurício\", \"Felício Alves\", \"Felício Alves\", \"Felício Antônio Alves (Prefeito)\", \"Felício dos Santos\", \"Felisburgo\", \"Fernando Luz\", \"Flexeiras\", \"Flor de Lis\", \"Flor de Maio\", \"Flor do Caribe\", \"Florestan Fernandes\", \"Florianópolis\", \"Francinópolis\", \"Francisco Badaró\", \"Francisco Xavier Correa\", \"Geralda Conceição Mota\", \"Geraldo Ederli Praça\", \"Glória da Conceição Aires\", \"Gonçalo Alves\", \"Gonçalves Dias\", \"Gontran de Sarandy Raposo\", \"Graviolas\", \"Groíras\", \"Guapó\", \"Guaratinga\", \"Hélder Câmara (Dom)\" \"Hemel\", \"Hungria\", \"Ibimirim\", \"Ibirapoã\", \"Icatu\", \"Idalina Muniz Rodrigues\", \"Igarapé Grande\", \"Ilha Bela\", \"Inhuma\", \"Ipuã\", \"Iracema\", \"Irapuã\", \"Itacarambi\", \"Itaeté\", \"Itália\", \"Itanhaém\", \"Itanhaém\", \"Itaperuna\", \"Izabel Camareiro Losano\", \"Casa Claúdio\", \"WYSI 727\"]\n",
    "\n",
    "telefone = [\"(64)279-19270\", \"(63)490-45299\", \"(61)031-74545\", \"(62)152-68969\", \"(61)869-40855\", \"(63)844-74792\", \"(62)467-58274\", \"(61)700-69654\", \"(63)493-88726\", \"(62)954-10185\", \"(62)124-20526\", \"(64)928-77805\", \"(63)882-08859\", \"(61)684-60712\", \"(62)654-05782\", \"(61)630-32862\", \"(63)586-45581\", \"(62)527-38379\", \"(61)571-94597\", \"(63)740-49813\", \"(62)615-26890\", \"(62)386-13332\", \"(64)826-69064\", \"(63)562-83345\", \"(61)251-98950\", \"(62)945-83749\", \"(61)461-31860\", \"(63)047-17227\", \"(62)122-42690\", \"(61)659-39553\", \"(63)307-50131\", \"(62)546-76990\", \"(62)592-56849\", \"(64)051-78144\", \"(63)674-53810\", \"(61)005-26551\", \"(62)360-16523\", \"(61)489-64709\", \"(63)911-41294\", \"(62)400-53664\", \"(61)277-71568\", \"(63)499-59073\", \"(62)937-77773\", \"(62)405-73350\", \"(64)073-01307\", \"(63)145-43820\", \"(61)980-02160\", \"(62)954-56287\", \"(61) 281-49504\", \"(63)906-15846\", \"(62)4002-8922\"]\n"
   ]
  },
  {
   "cell_type": "code",
   "execution_count": 41,
   "metadata": {},
   "outputs": [
    {
     "name": "stdout",
     "output_type": "stream",
     "text": [
      "values ('Ecologia', '(63)740-49813', '12.942.835/0001-30')\n",
      "values ('Itália', '(63)490-45299', '711.324.189-85')\n",
      "values ('Cumbe', '(63)844-74792', '279.352.293-37')\n",
      "values ('David Nasser', '(62)122-42690', '257.673.828-46')\n",
      "values ('Felício Alves', '(61)005-26551', '550.129.995-85')\n",
      "values ('Hungria', '(62)546-76990', '91.518.751/0001-98')\n",
      "values ('Ângelo Roberto Orsomarso', '(62)122-42690', '632.670.514-60')\n",
      "values ('Blecaute', '(61)684-60712', '586.813.940-64')\n",
      "values ('Hungria', '(62)405-73350', '86.518.525/0002-12')\n",
      "values ('Guaratinga', '(62)654-05782', '55.293.298/0001-81')\n"
     ]
    }
   ],
   "source": [
    "#Cliente\n",
    "for c in range(10):\n",
    "\n",
    "    if r.choice([False, True]):\n",
    "        inden = f'{r.randint(100,999)}.{r.randint(100,999)}.{r.randint(100,999)}-{r.randint(10,99)}'\n",
    "    else:\n",
    "        inden = f'{r.randint(10,99)}.{r.randint(100,999)}.{r.randint(100,999)}/000{r.randint(1,2)}-{r.randint(10,99)}'\n",
    "\n",
    "    print(f\"values ('{r.choice(endereco)}', '{r.choice(telefone)}', '{inden}')\")\n",
    "\n",
    "    mycursor.execute(f\"\"\"insert into cliente \n",
    "    values (null, '{r.choice(endereco)}', '{r.choice(telefone)}', '{inden}');\"\"\")\n",
    "    mydb.commit()"
   ]
  },
  {
   "cell_type": "code",
   "execution_count": 46,
   "metadata": {},
   "outputs": [
    {
     "name": "stdout",
     "output_type": "stream",
     "text": [
      "values ('Blecaute', '(64)279-19270', 'Pietro Bahiense')\n",
      "values ('Felício Alves', '(61)659-39553', 'Gabriela Almeida')\n",
      "values ('Carmela Thomeu', '(63)674-53810', 'Isabelly Braga')\n",
      "values ('Glória da Conceição Aires', '(63)562-83345', 'Henrique Almeida')\n",
      "values ('Groíras', '(62)4002-8922', 'Enzo Pedreira')\n",
      "values ('Eucalipto Vermelho', '(61)659-39553', 'Mariana Almeida')\n",
      "values ('Capibaribe', '(61)630-32862', 'Bernardo Siqueira')\n",
      "values ('Florestan Fernandes', '(63)493-88726', 'Matheus Fontes')\n",
      "values ('Guaratinga', '(63)586-45581', 'Maria Clara Castro')\n",
      "values ('Cícera Adriana Oliveira Cruz', '(61)277-71568', 'Maria Luiza Queirós')\n"
     ]
    }
   ],
   "source": [
    "#Editora\n",
    "for d in range(10):\n",
    "\n",
    "    n = f'{r.choice(nome)} {r.choice(sobrenome)}'\n",
    "    tel = r.choice(telefone)\n",
    "    end = r.choice(endereco)\n",
    "\n",
    "    print(f\"values ('{end}', '{tel}', '{n}')\")\n",
    "\n",
    "    mycursor.execute(f\"\"\"insert into editora \n",
    "    values (null, '{end}', '{tel}', '{n}');\"\"\")\n",
    "    mydb.commit()"
   ]
  },
  {
   "cell_type": "code",
   "execution_count": 43,
   "metadata": {},
   "outputs": [],
   "source": [
    "livro = {\n",
    "    \"Jogador Nº1\": \"Em 2045, Wade Watts, assim como o resto da humanidade, prefere a realidade virtual do jogo OASIS ao mundo real. James Halliday, o excêntrico criador do jogo, morre e deixa sua fortuna inestimável para a primeira pessoa que descobrir a chave de um quebra-cabeça diabólico que ele arquitetou. Para vencer, Watts precisa abandonar a existência virtual e experimentar o amor e a realidade.\",\n",
    "\n",
    "    \"O Homem de Giz\": \"Em 1986, Eddie e os amigos passam a maior parte dos dias andando de bicicleta pela pacata vizinhança em busca de aventuras. Os desenhos a giz são seu código secreto: homenzinhos rabiscados no asfalto; mensagens que só eles entendem. Mas um desenho misterioso leva o grupo de crianças até um corpo desmembrado e espalhado em um bosque. Depois disso, nada mais é como antes.\",\n",
    "\n",
    "    \"Maquiavel Pedagogo\": \"As técnicas de manipulação psicológica, que não se distinguem muito das técnicas de lavagem cerebral, estão sendo utilizadas de forma maciça. Naturalmente, os alunos são as primeiras vítimas\",\n",
    "\n",
    "    \"O homem mais rico da Babilônia\": \"Com mais de dois milhões de exemplares vendidos no mundo todo, O homem mais rico da Babilônia é um clássico sobre como multiplicar riqueza e solucionar problemas financeiros. Baseando-se nos segredos de sucesso dos antigos babilônicos ― os habitantes da cidade mais rica e próspera de seu tempo ―, George S. Clason mostra soluções ao mesmo tempo sábias e muito atuais para evitar a falta de dinheiro, como não desperdiçar recursos durante tempos de opulência, buscar conhecimento e informação em vez de apenas lucro, assegurar uma renda para o futuro, manter a pontualidade no pagamento de dívidas e, sobretudo, cultivar as próprias aptidões, tornando-se cada vez mais habilidoso e consciente.\",\n",
    "\n",
    "    \"Pinóquio\": \"Conheça a história que emoldurou nossa infância com todos os seus detalhes, veios e adornos. Ele ganhou vida em 1881 e vive até hoje dentro de nós. Vamos abrir a caixa de ferramentas da Caveira e conhecer a criação mais poderosa de Carlo Collodi, um marceneiro das palavras que foi capaz de esculpir em nossos corações o amor eterno por um boneco de madeira.\",\n",
    "\n",
    "    \"Diário de um banana\": \"Greg Heffley vive no inferno. Ou seja: no sexto ano do ensino fundamental. Franzino. Greg divide os corredores de sua escola com um bando de adolescentes que já se barbeiam. Para fugir destes “malvados” e conseguir um pouco de popularidade\",\n",
    "    \n",
    "    \"O Jardim Secreto\": \"As histórias mais mágicas são capazes de atravessar as barreiras do tempo e encantar leitores de diferentes gerações. Em 1911, Frances Hodgson Burnett presenteou o mundo com O Jardim Secreto, uma história doce e delicada sobre o poder transformador da magia, da natureza e da amizade. Mais de cem anos depois, a DarkSide® Books encontrou a chave para o jardim e agora convida os leitores brasileiros a mergulharem neste emocionante clássico da literatura infantojuvenil.\",\n",
    "\n",
    "    \"O Labirinto Do Fauno\": \"No ano de 1944, Ofélia e a mãe cruzam uma estrada de terra que corta uma floresta longínqua ao norte da Espanha, um lugar que guarda histórias já esquecidas pelos homens. O novo lar é um moinho de vento tomado pela escuridão e pela crueldade do capitão Vidal e seus soldados, dispostos a tudo para exterminar os rebeldes que se escondem na mata.\",\n",
    "\n",
    "    \"O Silêncio da Casa Fria\": \"Quando Elsie perdeu o marido apenas algumas semanas após o casamento, achou que já tinha sofrido o suficiente para uma vida inteira. Praticamente sozinha em uma casa enorme e isolada, ela jamais imaginou que os companheiros silencio¬sos ― painéis de madeira que imitavam pessoas em atividades cotidianas ―, um dia, seguiriam seus movimentos com os olhinhos pintados.\",\n",
    "\n",
    "    \"A Sonata Perfeita\": \"Para Gustav Perle, a vida deve ser vivida com reserva, autocontrole e, acima de tudo, neutralidade. “Você precisa ser como a Suíça”, diz sua mãe. “Você deve manter-se forte e corajoso. Assim, viverá do jeito certo.” Crescer na Suíça após a Segunda Guerra Mundial em um apartamento apertado não é fácil. E na companhia de sua mãe, que não consegue nutrir nenhuma espécie de afeto especial por ele, é ainda mais complicado. Gustav quer viver a vida que sempre sonhou.\"\n",
    "}"
   ]
  },
  {
   "cell_type": "code",
   "execution_count": 44,
   "metadata": {},
   "outputs": [
    {
     "name": "stdout",
     "output_type": "stream",
     "text": [
      "values (null, 'Jogador Nº1', 'Maria Clara Valle', 'Em 2045, Wade Watts, assim como o resto da humanidade, prefere a realidade virtual do jogo OASIS ao mundo real. James Halliday, o excêntrico criador do jogo, morre e deixa sua fortuna inestimável para a primeira pessoa que descobrir a chave de um quebra-cabeça diabólico que ele arquitetou. Para vencer, Watts precisa abandonar a existência virtual e experimentar o amor e a realidade.', '368-13-481862-3', 1, 16)\n",
      "values (null, 'O Homem de Giz', 'Alice Magalhães', 'Em 1986, Eddie e os amigos passam a maior parte dos dias andando de bicicleta pela pacata vizinhança em busca de aventuras. Os desenhos a giz são seu código secreto: homenzinhos rabiscados no asfalto; mensagens que só eles entendem. Mas um desenho misterioso leva o grupo de crianças até um corpo desmembrado e espalhado em um bosque. Depois disso, nada mais é como antes.', '847-38-142899-5', 7, 17)\n",
      "values (null, 'Maquiavel Pedagogo', 'Samuel Barros', 'As técnicas de manipulação psicológica, que não se distinguem muito das técnicas de lavagem cerebral, estão sendo utilizadas de forma maciça. Naturalmente, os alunos são as primeiras vítimas', '968-76-663028-1', 10, 9)\n",
      "values (null, 'O homem mais rico da Babilônia', 'Helena Matos', 'Com mais de dois milhões de exemplares vendidos no mundo todo, O homem mais rico da Babilônia é um clássico sobre como multiplicar riqueza e solucionar problemas financeiros. Baseando-se nos segredos de sucesso dos antigos babilônicos ― os habitantes da cidade mais rica e próspera de seu tempo ―, George S. Clason mostra soluções ao mesmo tempo sábias e muito atuais para evitar a falta de dinheiro, como não desperdiçar recursos durante tempos de opulência, buscar conhecimento e informação em vez de apenas lucro, assegurar uma renda para o futuro, manter a pontualidade no pagamento de dívidas e, sobretudo, cultivar as próprias aptidões, tornando-se cada vez mais habilidoso e consciente.', '649-83-239844-7', 8, 8)\n",
      "values (null, 'Pinóquio', 'Pietro Correia', 'Conheça a história que emoldurou nossa infância com todos os seus detalhes, veios e adornos. Ele ganhou vida em 1881 e vive até hoje dentro de nós. Vamos abrir a caixa de ferramentas da Caveira e conhecer a criação mais poderosa de Carlo Collodi, um marceneiro das palavras que foi capaz de esculpir em nossos corações o amor eterno por um boneco de madeira.', '862-06-652795-5', 8, 15)\n",
      "values (null, 'Diário de um banana', 'João Pedro Valle', 'Greg Heffley vive no inferno. Ou seja: no sexto ano do ensino fundamental. Franzino. Greg divide os corredores de sua escola com um bando de adolescentes que já se barbeiam. Para fugir destes “malvados” e conseguir um pouco de popularidade', '097-22-129037-4', 5, 16)\n",
      "values (null, 'O Jardim Secreto', 'PlayOsuGame Queirós', 'As histórias mais mágicas são capazes de atravessar as barreiras do tempo e encantar leitores de diferentes gerações. Em 1911, Frances Hodgson Burnett presenteou o mundo com O Jardim Secreto, uma história doce e delicada sobre o poder transformador da magia, da natureza e da amizade. Mais de cem anos depois, a DarkSide® Books encontrou a chave para o jardim e agora convida os leitores brasileiros a mergulharem neste emocionante clássico da literatura infantojuvenil.', '293-83-104798-5', 6, 8)\n",
      "values (null, 'O Labirinto Do Fauno', 'Julia Almeida', 'No ano de 1944, Ofélia e a mãe cruzam uma estrada de terra que corta uma floresta longínqua ao norte da Espanha, um lugar que guarda histórias já esquecidas pelos homens. O novo lar é um moinho de vento tomado pela escuridão e pela crueldade do capitão Vidal e seus soldados, dispostos a tudo para exterminar os rebeldes que se escondem na mata.', '096-64-946073-3', 4, 25)\n",
      "values (null, 'O Silêncio da Casa Fria', 'Lívia Fontes', 'Quando Elsie perdeu o marido apenas algumas semanas após o casamento, achou que já tinha sofrido o suficiente para uma vida inteira. Praticamente sozinha em uma casa enorme e isolada, ela jamais imaginou que os companheiros silencio¬sos ― painéis de madeira que imitavam pessoas em atividades cotidianas ―, um dia, seguiriam seus movimentos com os olhinhos pintados.', '904-93-841250-3', 8, 7)\n",
      "values (null, 'A Sonata Perfeita', 'Luiza Queirós', 'Para Gustav Perle, a vida deve ser vivida com reserva, autocontrole e, acima de tudo, neutralidade. “Você precisa ser como a Suíça”, diz sua mãe. “Você deve manter-se forte e corajoso. Assim, viverá do jeito certo.” Crescer na Suíça após a Segunda Guerra Mundial em um apartamento apertado não é fácil. E na companhia de sua mãe, que não consegue nutrir nenhuma espécie de afeto especial por ele, é ainda mais complicado. Gustav quer viver a vida que sempre sonhou.', '435-36-642198-5', 10, 14)\n"
     ]
    }
   ],
   "source": [
    "#livro\n",
    "for l in livro:\n",
    "\n",
    "    assunto = livro[l]\n",
    "    isbn = f\"{r.randint(1, 999):03}-{r.randint(1, 99):02}-{r.randint(1, 999999):06}-{r.randint(1,9)}\"\n",
    "    autor = f'{r.choice(nome)} {r.choice(sobrenome)}'\n",
    "    \n",
    "    print(f\"values (null, '{l}', '{autor}', '{assunto}', '{isbn}', {r.randint(1,10)}, {r.randint(1, 25)})\")\n",
    "\n",
    "    mycursor.execute(f\"\"\"insert into livro \n",
    "    values (null, '{l}', '{autor}', '{assunto}', '{isbn}', {r.randint(1,10)}, {r.randint(1, 25)});\"\"\")\n",
    "    mydb.commit()"
   ]
  },
  {
   "cell_type": "code",
   "execution_count": 45,
   "metadata": {},
   "outputs": [
    {
     "name": "stdout",
     "output_type": "stream",
     "text": [
      "values (null, 6, 9, 'O Silêncio da Casa Fria', 2)\n",
      "values (null, 13, 9, 'O Silêncio da Casa Fria', 2)\n",
      "values (null, 20, 9, 'O Silêncio da Casa Fria', 2)\n",
      "values (null, 13, 2, 'O Homem de Giz', 6)\n",
      "values (null, 13, 4, 'O homem mais rico da Babilônia', 1)\n",
      "values (null, 9, 9, 'O Silêncio da Casa Fria', 2)\n",
      "values (null, 1, 7, 'O Jardim Secreto', 8)\n",
      "values (null, 9, 9, 'O Silêncio da Casa Fria', 2)\n",
      "values (null, 13, 8, 'O Labirinto Do Fauno', 2)\n",
      "values (null, 7, 6, 'Diário de um banana', 6)\n",
      "values (null, 20, 7, 'O Jardim Secreto', 8)\n",
      "values (null, 14, 2, 'O Homem de Giz', 6)\n",
      "values (null, 12, 8, 'O Labirinto Do Fauno', 2)\n",
      "values (null, 16, 10, 'A Sonata Perfeita', 10)\n",
      "values (null, 17, 4, 'O homem mais rico da Babilônia', 1)\n",
      "values (null, 12, 6, 'Diário de um banana', 6)\n",
      "values (null, 6, 7, 'O Jardim Secreto', 8)\n",
      "values (null, 6, 10, 'A Sonata Perfeita', 10)\n",
      "values (null, 2, 9, 'O Silêncio da Casa Fria', 2)\n",
      "values (null, 11, 8, 'O Labirinto Do Fauno', 2)\n",
      "values (null, 1, 9, 'O Silêncio da Casa Fria', 2)\n",
      "values (null, 3, 1, 'Jogador Nº1', 3)\n",
      "values (null, 2, 3, 'Maquiavel Pedagogo', 5)\n",
      "values (null, 17, 2, 'O Homem de Giz', 6)\n",
      "values (null, 12, 2, 'O Homem de Giz', 6)\n"
     ]
    }
   ],
   "source": [
    "#Venda\n",
    "for i in range(25):\n",
    "    livro = r.randint(1, 10)\n",
    "\n",
    "    mycursor.execute(f\"select nome, id_editora from livro where id = {livro}\")\n",
    "    x = mycursor.fetchall()\n",
    "    nomeL = x[0][0]\n",
    "    editoraL = x[0][1]\n",
    "\n",
    "    print(f\"values (null, {r.randint(1,20)}, {livro}, '{nomeL}', {editoraL})\")\n",
    "\n",
    "    mycursor.execute(f\"\"\"insert into venda \n",
    "    values (null, {r.randint(1,20)}, {livro}, '{nomeL}', {editoraL});\"\"\")\n",
    "    mydb.commit()"
   ]
  }
 ],
 "metadata": {
  "kernelspec": {
   "display_name": "Python 3.11.0 64-bit",
   "language": "python",
   "name": "python3"
  },
  "language_info": {
   "codemirror_mode": {
    "name": "ipython",
    "version": 3
   },
   "file_extension": ".py",
   "mimetype": "text/x-python",
   "name": "python",
   "nbconvert_exporter": "python",
   "pygments_lexer": "ipython3",
   "version": "3.11.0"
  },
  "orig_nbformat": 4,
  "vscode": {
   "interpreter": {
    "hash": "32801d5aced484ee7da60172e037fb92c0364273e5f1fe9806c3e95a4cbf8d1f"
   }
  }
 },
 "nbformat": 4,
 "nbformat_minor": 2
}
