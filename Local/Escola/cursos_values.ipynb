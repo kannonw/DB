{
 "cells": [
  {
   "cell_type": "code",
   "execution_count": 2,
   "metadata": {},
   "outputs": [],
   "source": [
    "import bd\n",
    "import random as r"
   ]
  },
  {
   "cell_type": "code",
   "execution_count": 3,
   "metadata": {},
   "outputs": [],
   "source": [
    "mydb = bd.bd_connector()\n",
    "mycursor = mydb.cursor()"
   ]
  },
  {
   "cell_type": "code",
   "execution_count": 4,
   "metadata": {},
   "outputs": [],
   "source": [
    "curso = [\"Técnico em Informática\", \"Eletrotécnica\", \"Agricultura\", \"Agropecúaria\", \"Química\", \"Administração\", \"Ciência da Computação\", \"Análise e administração de sistemas\"]"
   ]
  },
  {
   "cell_type": "code",
   "execution_count": 5,
   "metadata": {},
   "outputs": [
    {
     "name": "stdout",
     "output_type": "stream",
     "text": [
      "values ('Ciência da Computação', 'Integral', 50, 36);\n",
      "values ('Agricultura', 'Integral', 50, 36);\n",
      "values ('Ciência da Computação', 'Integral', 50, 36);\n",
      "values ('Agricultura', 'Integral', 50, 36);\n",
      "values ('Ciência da Computação', 'Integral', 50, 36);\n",
      "values ('Agricultura', 'Integral', 50, 36);\n",
      "values ('Química', 'Integral', 50, 36);\n",
      "values ('Ciência da Computação', 'Integral', 50, 36);\n"
     ]
    }
   ],
   "source": [
    "for i in range(len(curso)):\n",
    "\n",
    "    mycursor.execute(f\"\"\"insert into curso\n",
    "    values (null,'{r.choice(curso)}', 'Integral', 50, 36);\"\"\")\n",
    "    mydb.commit()\n",
    "\n",
    "    print(f\"values ('{r.choice(curso)}', 'Integral', 50, 36);\")"
   ]
  }
 ],
 "metadata": {
  "kernelspec": {
   "display_name": "Python 3.10.5 64-bit",
   "language": "python",
   "name": "python3"
  },
  "language_info": {
   "codemirror_mode": {
    "name": "ipython",
    "version": 3
   },
   "file_extension": ".py",
   "mimetype": "text/x-python",
   "name": "python",
   "nbconvert_exporter": "python",
   "pygments_lexer": "ipython3",
   "version": "3.10.5"
  },
  "orig_nbformat": 4,
  "vscode": {
   "interpreter": {
    "hash": "fc59034749cad9d670029b6695745285f41900140096e9aa5fc07c99ab832acf"
   }
  }
 },
 "nbformat": 4,
 "nbformat_minor": 2
}
