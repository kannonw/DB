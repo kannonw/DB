{
 "cells": [
  {
   "cell_type": "code",
   "execution_count": 1,
   "metadata": {},
   "outputs": [],
   "source": [
    "import bd"
   ]
  },
  {
   "cell_type": "code",
   "execution_count": 2,
   "metadata": {},
   "outputs": [],
   "source": [
    "mydb = bd.bd_connector()\n",
    "mycursor = mydb.cursor()"
   ]
  },
  {
   "cell_type": "code",
   "execution_count": 3,
   "metadata": {},
   "outputs": [],
   "source": [
    "disc = [\"Matemática\", \"História\", \"Química\", \"Geográfia\", \"Física\", \"Línguas estrangeiras\", \"Português\"]"
   ]
  },
  {
   "cell_type": "code",
   "execution_count": 6,
   "metadata": {},
   "outputs": [
    {
     "name": "stdout",
     "output_type": "stream",
     "text": [
      "values ('Matemática');\n",
      "values ('História');\n",
      "values ('Química');\n",
      "values ('Geográfia');\n",
      "values ('Física');\n",
      "values ('Línguas estrangeiras');\n",
      "values ('Português');\n"
     ]
    }
   ],
   "source": [
    "for i in disc:\n",
    "    mycursor.execute(f\"\"\"insert into disciplina\n",
    "    values (null, '{i}');\"\"\")\n",
    "    mydb.commit()\n",
    "    print(f\"values ('{i}');\")"
   ]
  }
 ],
 "metadata": {
  "kernelspec": {
   "display_name": "Python 3.10.5 64-bit",
   "language": "python",
   "name": "python3"
  },
  "language_info": {
   "codemirror_mode": {
    "name": "ipython",
    "version": 3
   },
   "file_extension": ".py",
   "mimetype": "text/x-python",
   "name": "python",
   "nbconvert_exporter": "python",
   "pygments_lexer": "ipython3",
   "version": "3.10.5"
  },
  "orig_nbformat": 4,
  "vscode": {
   "interpreter": {
    "hash": "fc59034749cad9d670029b6695745285f41900140096e9aa5fc07c99ab832acf"
   }
  }
 },
 "nbformat": 4,
 "nbformat_minor": 2
}
