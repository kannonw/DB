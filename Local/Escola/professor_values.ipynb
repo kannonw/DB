{
 "cells": [
  {
   "cell_type": "code",
   "execution_count": 17,
   "metadata": {},
   "outputs": [],
   "source": [
    "import bd\n",
    "import random as r"
   ]
  },
  {
   "cell_type": "code",
   "execution_count": 18,
   "metadata": {},
   "outputs": [],
   "source": [
    "mydb = bd.bd_connector()\n",
    "mycursor = mydb.cursor()"
   ]
  },
  {
   "cell_type": "code",
   "execution_count": 19,
   "metadata": {},
   "outputs": [],
   "source": [
    "nome = [\"Miguel\", \"Sophia\",\t\"Davi\",\t\"Alice\", \"Arthur\",\t\"Julia\",\t\"Pedro\",\t\"Isabella\",\t\"Gabriel\",\t\"Manuela\",\t\"Bernardo\",\t\"Laura\",\t\"Lucas\",\t\"Luiza\",\t\"Matheus\",\t\"Valentina\",\t\"Rafael\",\t\"Giovanna\",\t\"Heitor\",\t\"Maria\" ,\"Eduarda\",\t\"Enzo\",\t\"Helena\", \"Guilherme\",\t\"Beatriz\",\t\"Nicolas\",\t\"Maria Luiza\",\t\"Lorenzo\",\t\"Lara\",\t\"Gustavo\",\t\"Mariana\",\t\"Felipe\",\t\"Nicole\",\t\"Samuel\",\t\"Rafaela\",\t\"João Pedro\",\t\"Heloísa\",\t\"Daniel\",\t\"Isadora\",\t\"Vitor\"\t,\"Lívia\",\t\"Leonardo\",\t\"Maria Clara\",\t\"Henrique\",\t\"Ana Clara\",\t\"Theo\",\t\"Lorena\",\t\"Murilo\",\t\"Gabriela\",\t\"Eduardo\",\t\"Yasmin\",\t\"Pedro\",\t\"Isabelly\",\t\"Pietro\", \"PlayOsuGame\", \"JorgeGameplays555\", \"Piton\", \"Onichan\", \"Henrique\"]\n",
    "\n",
    "sobrenome = [\"Almeida\", \"Azevedo\", \"Braga\", \"Barros\", \"Bahiense\", \"Campos\", \"Cardoso\", \"Correia\", \"Castro\", \"Costa\", \"Fontes\" , \"Guimarães\" , \"Magalhães\" , \"Macedo\", \"Matos\", \"Pedreira\", \"Queirós\", \"Ribeiro\", \"Rocha\", \"Siqueira\", \"Serra\", \"Souza\", \"Teixeira\", \"Valle\"]\n",
    "\n",
    "telefone = [\"(64)279-19270\", \"(63)490-45299\", \"(61)031-74545\", \"(62)152-68969\", \"(61)869-40855\", \"(63)844-74792\", \"(62)467-58274\", \"(61)700-69654\", \"(63)493-88726\", \"(62)954-10185\", \"(62)124-20526\", \"(64)928-77805\", \"(63)882-08859\", \"(61)684-60712\", \"(62)654-05782\", \"(61)630-32862\", \"(63)586-45581\", \"(62)527-38379\", \"(61)571-94597\", \"(63)740-49813\", \"(62)615-26890\", \"(62)386-13332\", \"(64)826-69064\", \"(63)562-83345\", \"(61)251-98950\", \"(62)945-83749\", \"(61)461-31860\", \"(63)047-17227\", \"(62)122-42690\", \"(61)659-39553\", \"(63)307-50131\", \"(62)546-76990\", \"(62)592-56849\", \"(64)051-78144\", \"(63)674-53810\", \"(61)005-26551\", \"(62)360-16523\", \"(61)489-64709\", \"(63)911-41294\", \"(62)400-53664\", \"(61)277-71568\", \"(63)499-59073\", \"(62)937-77773\", \"(62)405-73350\", \"(64)073-01307\", \"(63)145-43820\", \"(61)980-02160\", \"(62)954-56287\", \"(61) 281-49504\", \"(63)906-15846\", \"(62)4002-8922\"]\n",
    "\n",
    "endereco = [\"Adevilson Estevan dos Santos\", \"Água Chata\", \"Ala\", \"Albertina Duarte Leite\", \"Alberto Hinoto\", \"Aldeias Altas\", \"Alexandre Kiss\", \"Altemar Dutra\", \"Altina Alves Brogna\", \"Alto Longá\", \"Ângelo Roberto Orsomarso\", \"Antônio Mestriner\", \"Antônio Tava\", \"Aroazes\", \"Arauá\", \"Atlas\", \"Araucária\", \"Assis Abude\", \"Aveloz\", \"Belgrado\", \"Berilo\", \"Blecaute\", \"Cocaína\", \"Bonsai\", \"Boqueirão dos Cochos\", \"Borba Gato\", \"Botumirim\", \"Branquinha\", \"Caminho Velho\", \"Capelinha\", \"Capibaribe\", \"Carlos Drumond de Andrade\", \"Carmela Thomeu\", \"Catharina Maria de Jesus (Dona)\", \"Caviúna\", \"Cereja do Mato\", \"Chico Mendes\", \"Cícera Adriana Oliveira Cruz\", \"Cícero Dantas\", \"Circular\", \"Colina\", \"Cristalina\", \"Curvelo\", \"Cumbe\", \"Datas\", \"David Nasser\", \"Deise\", \"Demerval Lobão\", \"Deolinda Ramos Bueno\", \"Doze de Fevereiro\", \"Dracena\", \"Duarte Leopoldo e Silva (Dom)\", \"Ecologia\", \"Edmar Bressam\", \"Eduardo Froner\", \"Eliane Mendes Ferreira\", \"Elias Dabarian\", \"Elvis Presley\", \"Elza Gomes\", \"Etelvina\", \"Eucalipto Vermelho\", \"Euráchio Maurício\", \"Felício Alves\", \"Felício Alves\", \"Felício Antônio Alves (Prefeito)\", \"Felício dos Santos\", \"Felisburgo\", \"Fernando Luz\", \"Flexeiras\", \"Flor de Lis\", \"Flor de Maio\", \"Flor do Caribe\", \"Florestan Fernandes\", \"Florianópolis\", \"Francinópolis\", \"Francisco Badaró\", \"Francisco Xavier Correa\", \"Geralda Conceição Mota\", \"Geraldo Ederli Praça\", \"Glória da Conceição Aires\", \"Gonçalo Alves\", \"Gonçalves Dias\", \"Gontran de Sarandy Raposo\", \"Graviolas\", \"Groíras\", \"Guapó\", \"Guaratinga\", \"Hélder Câmara (Dom)\" \"Hemel\", \"Hungria\", \"Ibimirim\", \"Ibirapoã\", \"Icatu\", \"Idalina Muniz Rodrigues\", \"Igarapé Grande\", \"Ilha Bela\", \"Inhuma\", \"Ipuã\", \"Iracema\", \"Irapuã\", \"Itacarambi\", \"Itaeté\", \"Itália\", \"Itanhaém\", \"Itanhaém\", \"Itaperuna\", \"Izabel Camareiro Losano\", \"Casa Claúdio\", \"WYSI 727\"]\n",
    "\n",
    "email = [\"@gmail.com\", \"@hotmail.com\", \"@outlook.com\", \"@protonmail.com\"]"
   ]
  },
  {
   "cell_type": "code",
   "execution_count": 21,
   "metadata": {},
   "outputs": [
    {
     "name": "stdout",
     "output_type": "stream",
     "text": [
      "values (null, 'Eduardo Teixeira', '643.683.344-35', 7, 0, 'Flor de Lis', '(62)615-26890', 'eduardo.teixeira@gmail.com');\n",
      "values (null, 'Rafael Bahiense', '596.425.775-50', 1, 0, 'Ala', '(62)405-73350', 'rafael.bahiense@hotmail.com');\n",
      "values (null, 'Pedro Correia', '403.317.798-61', 3, 2000, 'David Nasser', '(61)277-71568', 'pedro.correia@outlook.com');\n",
      "values (null, 'Laura Souza', '527.144.566-84', 3, 500, 'Aldeias Altas', '(64)826-69064', 'laura.souza@outlook.com');\n",
      "values (null, 'Samuel Braga', '502.198.949-80', 6, 0, 'Elvis Presley', '(61)005-26551', 'samuel.braga@gmail.com');\n",
      "values (null, 'Isabelly Ribeiro', '903.356.545-76', 3, 1200, 'Catharina Maria de Jesus (Dona)', '(63)145-43820', 'isabelly.ribeiro@protonmail.com');\n",
      "values (null, 'Henrique Matos', '757.553.618-33', 7, 1200, 'Boqueirão dos Cochos', '(62)954-56287', 'henrique.matos@gmail.com');\n",
      "values (null, 'Sophia Costa', '430.705.810-10', 2, 0, 'Florianópolis', '(64)051-78144', 'sophia.costa@gmail.com');\n",
      "values (null, 'Alice Cardoso', '967.271.307-99', 7, 2000, 'Berilo', '(63)047-17227', 'alice.cardoso@gmail.com');\n",
      "values (null, 'Lorenzo Ribeiro', '124.943.229-55', 4, 500, 'Cumbe', '(61)869-40855', 'lorenzo.ribeiro@protonmail.com');\n",
      "values (null, 'Davi Souza', '191.806.869-53', 3, 2000, 'Alexandre Kiss', '(63)882-08859', 'davi.souza@gmail.com');\n",
      "values (null, 'Piton Rocha', '805.950.480-92', 2, 2000, 'Circular', '(63)882-08859', 'piton.rocha@outlook.com');\n",
      "values (null, 'Onichan Campos', '720.540.166-23', 4, 2000, 'Deolinda Ramos Bueno', '(61)461-31860', 'onichan.campos@protonmail.com');\n",
      "values (null, 'Maria Clara Azevedo', '978.719.268-59', 3, 500, 'Catharina Maria de Jesus (Dona)', '(62)467-58274', 'maria clara.azevedo@protonmail.com');\n",
      "values (null, 'Lucas Azevedo', '214.263.828-14', 6, 1200, 'Antônio Mestriner', '(62)615-26890', 'lucas.azevedo@protonmail.com');\n",
      "values (null, 'Enzo Braga', '547.802.330-45', 2, 500, 'Geraldo Ederli Praça', '(63)493-88726', 'enzo.braga@gmail.com');\n",
      "values (null, 'Lara Queirós', '526.333.906-17', 7, 500, 'Botumirim', '(63)740-49813', 'lara.queirós@protonmail.com');\n",
      "values (null, 'Gabriela Souza', '629.861.911-91', 7, 500, 'Hélder Câmara (Dom)Hemel', '(63)490-45299', 'gabriela.souza@protonmail.com');\n",
      "values (null, 'Felipe Campos', '460.381.856-35', 2, 0, 'Geralda Conceição Mota', '(62)152-68969', 'felipe.campos@hotmail.com');\n",
      "values (null, 'Maria Clara Pedreira', '136.927.422-79', 7, 1200, 'Hungria', '(62)945-83749', 'maria clara.pedreira@hotmail.com');\n"
     ]
    }
   ],
   "source": [
    "for p in range(20):\n",
    "    nomep = r.choice(nome)\n",
    "    sobrep = r.choice(sobrenome)\n",
    "    cpf = f'{r.randint(100,999)}.{r.randint(100,999)}.{r.randint(100,999)}-{r.randint(10,99)}'\n",
    "\n",
    "    mycursor.execute(f\"\"\"insert into professor values (null, '{nomep} {sobrep}', '{cpf}', {r.randint(1,7)}, {r.choice([0, 500, 1200, 2000])}, '{r.choice(endereco)}', '{r.choice(telefone)}', '{nomep.lower()}.{sobrep.lower()}{r.choice(email)}');\"\"\")\n",
    "    mydb.commit()\n",
    "    \n",
    "    print(f\"values (null, '{nomep} {sobrep}', '{cpf}', {r.randint(1,7)}, {r.choice([0, 500, 1200, 2000])}, '{r.choice(endereco)}', '{r.choice(telefone)}', '{nomep.lower()}.{sobrep.lower()}{r.choice(email)}');\")"
   ]
  }
 ],
 "metadata": {
  "kernelspec": {
   "display_name": "Python 3.10.5 64-bit",
   "language": "python",
   "name": "python3"
  },
  "language_info": {
   "codemirror_mode": {
    "name": "ipython",
    "version": 3
   },
   "file_extension": ".py",
   "mimetype": "text/x-python",
   "name": "python",
   "nbconvert_exporter": "python",
   "pygments_lexer": "ipython3",
   "version": "3.10.5"
  },
  "orig_nbformat": 4,
  "vscode": {
   "interpreter": {
    "hash": "fc59034749cad9d670029b6695745285f41900140096e9aa5fc07c99ab832acf"
   }
  }
 },
 "nbformat": 4,
 "nbformat_minor": 2
}
