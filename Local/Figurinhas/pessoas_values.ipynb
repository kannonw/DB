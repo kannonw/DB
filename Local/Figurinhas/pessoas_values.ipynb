{
 "cells": [
  {
   "cell_type": "code",
   "execution_count": 50,
   "metadata": {},
   "outputs": [],
   "source": [
    "import mysql.connector\n",
    "import random as r\n",
    "import numpy as np\n",
    "\n",
    "mydb = mysql.connector.connect(\n",
    "    host = \"localhost\",\n",
    "    user = \"root\",\n",
    "    password = \"\",\n",
    "    database = \"Figurinhas_do_Ben_10\"\n",
    ")\n",
    "mycursor = mydb.cursor()"
   ]
  },
  {
   "cell_type": "code",
   "execution_count": null,
   "metadata": {},
   "outputs": [],
   "source": [
    "# Cria tabela posses no banco 'Figurinhas_do_Ben_10'\n",
    "mycursor.execute(f\"\"\"create table posses (\n",
    "id_pessoa int not null primary key,\n",
    "nome_pessoa varchar(255),\n",
    "email_pessoa varchar(255)\n",
    ");\"\"\")\n",
    "mydb.commit()"
   ]
  },
  {
   "cell_type": "code",
   "execution_count": 54,
   "metadata": {},
   "outputs": [],
   "source": [
    "#Número de itens na tabela 'figurinhas'\n",
    "mycursor.execute(f\"select count(*) from figurinhas\")\n",
    "num = mycursor.fetchall()\n",
    "num = int(num[0][0])"
   ]
  },
  {
   "cell_type": "code",
   "execution_count": null,
   "metadata": {},
   "outputs": [],
   "source": [
    "#Adiciona as colunas restantes da tabela 'figurinhas'\n",
    "for i in range(num):\n",
    "    mycursor.execute(f\"alter table posses add figurinha_{i+1} int;\")\n",
    "    mydb.commit()"
   ]
  },
  {
   "cell_type": "code",
   "execution_count": null,
   "metadata": {},
   "outputs": [],
   "source": [
    "nome = [\"Miguel\", \"Sophia\",\t\"Davi\",\t\"Alice\", \"Arthur\",\t\"Julia\",\t\"Pedro\",\t\"Isabella\",\t\"Gabriel\",\t\"Manuela\",\t\"Bernardo\",\t\"Laura\",\t\"Lucas\",\t\"Luiza\",\t\"Matheus\",\t\"Valentina\",\t\"Rafael\",\t\"Giovanna\",\t\"Heitor\",\t\"Maria\" ,\"Eduarda\",\t\"Enzo\",\t\"Helena\", \"Guilherme\",\t\"Beatriz\",\t\"Nicolas\",\t\"Maria Luiza\",\t\"Lorenzo\",\t\"Lara\",\t\"Gustavo\",\t\"Mariana\",\t\"Felipe\",\t\"Nicole\",\t\"Samuel\",\t\"Rafaela\",\t\"João Pedro\",\t\"Heloísa\",\t\"Daniel\",\t\"Isadora\",\t\"Vitor\"\t,\"Lívia\",\t\"Leonardo\",\t\"Maria Clara\",\t\"Henrique\",\t\"Ana Clara\",\t\"Theo\",\t\"Lorena\",\t\"Murilo\",\t\"Gabriela\",\t\"Eduardo\",\t\"Yasmin\",\t\"Pedro\",\t\"Isabelly\",\t\"Pietro\", \"Play Osu Game\", \"Jorge Gameplays555\", \"Piton\", \"Onichan\", \"Henrique\"]"
   ]
  },
  {
   "cell_type": "code",
   "execution_count": null,
   "metadata": {},
   "outputs": [],
   "source": [
    "sobrenome = [ \"Almeida\", \"Azevedo\", \"Braga\", \"Barros\", \"Bahiense\", \"Campos\", \"Cardoso\", \"Correia\", \"Castro\", \"Costa\", \"Fontes\" , \"Guimarães\" , \"Magalhães\" , \"Macedo\", \"Matos\", \"Pedreira\", \"Queirós\", \"Ribeiro\", \"Rocha\", \"Siqueira\", \"Serra\", \"Souza\", \"Teixeira\", \"Valle\"]"
   ]
  },
  {
   "cell_type": "code",
   "execution_count": null,
   "metadata": {},
   "outputs": [],
   "source": [
    "email = [\"@gmail.com\", \"@hotmail.com\", \"@outlook.com\", \"@protonmail.com\"]"
   ]
  },
  {
   "cell_type": "code",
   "execution_count": null,
   "metadata": {},
   "outputs": [],
   "source": [
    "#Insere os valores das pessoas na tabela 'posses'\n",
    "for i in range(1, 51):\n",
    "\n",
    "    n = r.choice(nome)\n",
    "    s = r.choice(sobrenome)\n",
    "\n",
    "    mycursor.execute(f\"\"\"insert into posses(id_pessoa, nome_pessoa, email_pessoa)\n",
    "    values ({i}, '{n} {s}', '{n.lower()}.{s.lower()}{r.choice(email)}');\"\"\")\n",
    "    mydb.commit()\n",
    "\n",
    "    # print(f\"{i}, '{n} {s}', '{n.lower()}.{s.lower()}{r.choice(email)}'\")"
   ]
  },
  {
   "cell_type": "code",
   "execution_count": 66,
   "metadata": {},
   "outputs": [],
   "source": [
    "#Cria um array de pesos de 100 a 1\n",
    "pesos = []\n",
    "for i in range(100, 0, -1):\n",
    "    pesos.append(i)"
   ]
  },
  {
   "cell_type": "code",
   "execution_count": 63,
   "metadata": {},
   "outputs": [],
   "source": [
    "#Insere os valores das colunas figurinhas restantes usandos os pesos\n",
    "for i in range(num):\n",
    "    for p in range(50):\n",
    "        quatd = np.random.choice(r.randint(1, 100), 1, pesos)[0]\n",
    "\n",
    "        mycursor.execute(f\"update posses set figurinha_{i+1} = {quatd} where id_pessoa = {p+1};\")\n",
    "        mydb.commit()"
   ]
  }
 ],
 "metadata": {
  "kernelspec": {
   "display_name": "Python 3.10.5 64-bit",
   "language": "python",
   "name": "python3"
  },
  "language_info": {
   "codemirror_mode": {
    "name": "ipython",
    "version": 3
   },
   "file_extension": ".py",
   "mimetype": "text/x-python",
   "name": "python",
   "nbconvert_exporter": "python",
   "pygments_lexer": "ipython3",
   "version": "3.10.5"
  },
  "orig_nbformat": 4,
  "vscode": {
   "interpreter": {
    "hash": "fc59034749cad9d670029b6695745285f41900140096e9aa5fc07c99ab832acf"
   }
  }
 },
 "nbformat": 4,
 "nbformat_minor": 2
}
