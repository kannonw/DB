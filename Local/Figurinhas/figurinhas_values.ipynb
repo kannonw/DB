{
 "cells": [
  {
   "cell_type": "code",
   "execution_count": 1,
   "metadata": {},
   "outputs": [],
   "source": [
    "import mysql.connector\n",
    "\n",
    "mydb = mysql.connector.connect(\n",
    "    host = \"localhost\",\n",
    "    user = \"root\",\n",
    "    password = \"\",\n",
    "    database = \"Figurinhas_do_Ben_10\"\n",
    ")\n",
    "mycursor = mydb.cursor()"
   ]
  },
  {
   "cell_type": "code",
   "execution_count": 2,
   "metadata": {},
   "outputs": [],
   "source": [
    "# id, nome, primeira_aparicao, planeta, raridade, descrição\n",
    "# Normal, Raro, Épico, Lendário, Único"
   ]
  },
  {
   "cell_type": "code",
   "execution_count": 3,
   "metadata": {},
   "outputs": [],
   "source": [
    "alien = {\n",
    "    # Comum\n",
    "    \"Chama\": [\"E Então Eram 10\", \"Pyros\", \"Comum\", \"Chama é a amostra de DNA do Omnitrix de um Pyronite da estrela Pyros\"],\n",
    "    \"Enormossauro\": [\"O Retorno de Ben 10: Parte 2\", \"Terradiano\", \"Comum\", \"Enormossauro é a amostra de DNA do Omnitrix de um Vaxassauro\"],\n",
    "    \"Bala de canhão\": [\"O Grande Carrapato\", \"Arburia (destruído)\", \"Comum\", \"Bala de canhão é a amostra de DNA do Omnitrix de um Pelarota Arburiano do planeta Arburia\"],\n",
    "    \"Artrópode\": [\"Ben 10: Força Alienígena\", \"Encephalonus IV\", \"Comum\", \"Artrópode é a amostra de DNA do Omnitrix de um Cerebrocrustaceano do planeta Encephalonus IV\"],\n",
    "    \"Gosma\": [\"Ben 10: Força Alienígena\", \"Viscosia\", \"Comum\", \"Gosma é a amostra de DNA do Omnitrix de um Polymorpho do planeta Viscosia\"],\n",
    "    \"Quatro Braços\": [\"Ben 10\", \"Khoros\", \"Comum\", \"Quatro Braços é a amostra de DNA do Omnitrix de um Tetramando do planeta Khoros\"],\n",
    "    \"XLR8\": [\"Ben 10\", \"Kinet\", \"Comum\", \"XLR8 é a amostra de DNA do Omnitrix de um Kinecelerano do planeta Kinet1\"],\n",
    "    \"Enxurrada\": [\"Ben 10\", \"Cascareau\", \"Comum\", \"Enxurrada é a amostra de DNA do Omnitrix de um Cascano do planeta Cascareau\"],\n",
    "    \"Besta\": [\"Ben 10\", \"Vulpin\", \"Comum\", \"Besta é a amostra de DNA do Omnitrix de um Vulpimancer do planeta Vulpin.\"],\n",
    "\n",
    "\n",
    "    # Raro\n",
    "    \"Massa Cinzenta\": [\"Ben 10\", \"Galvan Prime\", \"Raro\", \"Massa Cinzenta é a amostra de DNA do Omnitrix de um Galvan do planeta Galvan Prime\"],\n",
    "    \"Friagem\": [\"Uma Artimanha do Kevin\", \"Kylmyys\", \"Raro\", \"Friagem é a amostra de DNA do Omnitrix de um Necrofriggiano do planeta Kylmyys.\"],\n",
    "    \"Insectóide\": [\"Ben 10\", \"Lepidopterra\", \"Raro\", \"Insectóide é a amostra de DNA do Omnitrix de um Lepidopterrano do planeta Lepidopterra\"],\n",
    "    \"Idem\": [\"Ben 10\", \"Hathor\", \"Raro\", \"Idem, anteriormente Clone, é a amostra de DNA do Omnitrix de um Splixion do planeta Hathor\"],\n",
    "    \"Vompiro\": [\"Ben 10\", \"Anur Vladias\", \"Raro\", \"Vompiro é a amostra de DNA do Omnitrix da extinta espécie Vladat do planeta Anur Vladias\"],\n",
    "    \"Ultra T\": [\"Ben 10: Omniverse\", \"Galvan B\", \"Raro\", \"Ultra T é a amostra de DNA do Omnitrix de um Mecamorfo galvânico da lua Galvan B\"],\n",
    "    \"Tapinha\": [\"Ben 10: Supremacia Alienígena\", \"Ekoplekton\", \"Raro\", \"Tapinha é a amostra de DNA do Omnitrix de um Ekoplektoid do planeta Ekoplekton\"],\n",
    "    \"Tartagira\": [\"Ben 10: Supremacia Alienígena\", \"Aldabra\", \"Raro\", \"Tartagira é a amostra de DNA do Omnitrix de um Geochelone aerio do planeta Aldabra\"],\n",
    "    \"Sr.Macaco\": [\"Ben 10: Omniverse\", \"Aranhascimmia\", \"Raro\", \"Sr. Macaco é a amostra de DNA do Relógio do Herói de um Arachnachimp do planeta Aranhascimmia. É a versão de Ben 23 do Macaco-Aranha\"],\n",
    "    \"NRG\": [\"Ben 10: Supremacia Alienígena\", \"Prypiatos\", \"Raro\", \"NRG é a amostra de DNA do Omnitrix de um Prypiatosian B do planeta Prypiatos da Galáxia de Andrômeda.\"],\n",
    "    \"Fantasmático\": [\"Ben 10\", \"Anur Phaetos\", \"Raro\", \"Fantasmático é a amostra de DNA do Omnitrix de um Ectonurita do planeta Anur Phaetos.\"],\n",
    "    \"Arraia-à-Jato\": [\"Ben 10: Força Alienígena\", \"Aeropela\", \"Raro\", \"Arraia-à-Jato é a amostra de DNA do Omnitrix de um Aerofibiano do planeta Aeropela.\"],\n",
    "\n",
    "\n",
    "    # Épico\n",
    "    \"Acelerado\": [\"Ben 10: Supremacia Alienígena\", \"Chalybeas\", \"Épico\", \"Acelerado é a amostra de DNA do Omnitrix de um Citrakayah do planeta Chalybeas\"],\n",
    "    \"Rath\": [\"Ben 10: Força Alienígena\", \"Appoplexia\", \"Épico\", \"Rath, anteriormente Irado, é a amostra de DNA do Omnitrix de um Appoplexiano do planeta Appoplexia\"],\n",
    "    \"Mr. Mucky\": [\"Ben 10: Omniverse\", \"Methanos\", \"Épico\", \"Mr. Mucky é a amostra de DNA do Relógio do Herói de um Metanosiano do planeta Methanos. É a versão de Ben 23 do Fogo Fátuo\"],\n",
    "    \"Eco Eco\": [\"Ben 10: Força Alienígena\", \"Sonorosia\", \"Épico\", \"Eco Eco é a amostra de DNA do Omnitrix de um Sonorosiano do planeta Sonorosia\"],\n",
    "    \"Feedback\": [\"Ben 10: Omniverse\", \"Teslavorr\", \"Épico\", \"Feedback é a amostra de DNA do Omnitrix de um Conductoide da nebulosa de Teslavorr.\"],\n",
    "    \"Cromático\": [\"Ben 10: Supremacia Alienígena\", \"Petropia\", \"Épico\", \"Cromático é a amostra de DNA do Omnitrix de um Crystalsapien do planeta Petropia.\"],\n",
    "    \"Anfíbio\": [\"Ben 10: Supremacia Alienígena\", \"Tesslos\", \"Épico\", \"Anfíbio é a amostra de DNA do Omnitrix de um Amperi do planeta Tesslos da Galáxia de Andrômeda.\"],\n",
    "\n",
    "\n",
    "    # Único\n",
    "    \"Alien X\": [\"Ben 10: Força Alienígena\", \"Centro da Criação\", \"Único\", \"Alien X é a amostra de DNA do Omnitrix de um Sapien Celestial do Centro da Criação\"],\n",
    "    \"Gigante\": [\"Ben 10\", \"Tempestades Cósmicas\", \"Único\", \"Gigante, anteriormente Grandão, também chamado em Primus de Grau-Gigante, é a amostra de DNA do Omnitrix de um To kustar originado das Tempestades Cósmicas.\"],\n",
    "}\n"
   ]
  },
  {
   "cell_type": "code",
   "execution_count": 4,
   "metadata": {},
   "outputs": [],
   "source": [
    "id = 1\n",
    "for nome in alien:\n",
    "    \n",
    "    aparicao = alien[nome][0]\n",
    "    planeta = alien[nome][1]\n",
    "    raridade = alien[nome][2]\n",
    "    descricao = alien[nome][3]\n",
    "\n",
    "    # print(f\"values({id}, '{nome}', '{aparicao}', '{planeta}', '{raridade}', '{descricao}');\")\n",
    "\n",
    "    mycursor.execute(f\"\"\"insert into figurinhas (id_figurinha, nome_figurinha, aparicao_figurinha, planeta_figurinha, raridade_figurinha, descricao_figurinha)\n",
    "    values ({id}, '{nome}', '{aparicao}', '{planeta}', '{raridade}', '{descricao}');\"\"\")\n",
    "    mydb.commit()\n",
    "\n",
    "    id += 1"
   ]
  }
 ],
 "metadata": {
  "kernelspec": {
   "display_name": "Python 3.10.5 64-bit",
   "language": "python",
   "name": "python3"
  },
  "language_info": {
   "codemirror_mode": {
    "name": "ipython",
    "version": 3
   },
   "file_extension": ".py",
   "mimetype": "text/x-python",
   "name": "python",
   "nbconvert_exporter": "python",
   "pygments_lexer": "ipython3",
   "version": "3.10.5"
  },
  "orig_nbformat": 4,
  "vscode": {
   "interpreter": {
    "hash": "fc59034749cad9d670029b6695745285f41900140096e9aa5fc07c99ab832acf"
   }
  }
 },
 "nbformat": 4,
 "nbformat_minor": 2
}
