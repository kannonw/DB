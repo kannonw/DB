{
 "cells": [
  {
   "cell_type": "code",
   "execution_count": 1,
   "metadata": {},
   "outputs": [],
   "source": [
    "import mysql.connector\n",
    "import random as r\n",
    "\n",
    "mydb = mysql.connector.connect(\n",
    "    host = \"localhost\",\n",
    "    user = \"root\",\n",
    "    password = \"\",\n",
    "    database = \"Figurinhas_do_Ben_10\"\n",
    ")\n",
    "mycursor = mydb.cursor()"
   ]
  },
  {
   "cell_type": "code",
   "execution_count": 2,
   "metadata": {},
   "outputs": [],
   "source": [
    "# id, nome, primeira_aparicao, planeta, raridade, descrição\n",
    "# Normal, Raro, Épico, Lendário, Único"
   ]
  },
  {
   "cell_type": "code",
   "execution_count": 3,
   "metadata": {},
   "outputs": [],
   "source": [
    "alien = {\n",
    "    # Comum\n",
    "    \"Chama\": [\"E Então Eram 10\", \"Pyros\", \"Comum\", \"Chama é a amostra de DNA do Omnitrix de um Pyronite da estrela Pyros\"],\n",
    "    \"Enormossauro\": [\"O Retorno de Ben 10: Parte 2\", \"Terradiano\", \"Comum\", \"Enormossauro é a amostra de DNA do Omnitrix de um Vaxassauro\"],\n",
    "    \"Bala de canhão\": [\"O Grande Carrapato\", \"Arburia (destruído)\", \"Comum\", \"Bala de canhão é a amostra de DNA do Omnitrix de um Pelarota Arburiano do planeta Arburia\"],\n",
    "    \"Artrópode\": [\"Ben 10: Força Alienígena\", \"Encephalonus IV\", \"Comum\", \"Artrópode é a amostra de DNA do Omnitrix de um Cerebrocrustaceano do planeta Encephalonus IV\"],\n",
    "    \"Gosma\": [\"Ben 10: Força Alienígena\", \"Viscosia\", \"Comum\", \"Gosma é a amostra de DNA do Omnitrix de um Polymorpho do planeta Viscosia\"],\n",
    "    \"Quatro Braços\": [\"Ben 10\", \"Khoros\", \"Comum\", \"Quatro Braços é a amostra de DNA do Omnitrix de um Tetramando do planeta Khoros\"],\n",
    "    \"XLR8\": [\"Ben 10\", \"Kinet\", \"Comum\", \"XLR8 é a amostra de DNA do Omnitrix de um Kinecelerano do planeta Kinet1\"],\n",
    "    \"Enxurrada\": [\"Ben 10\", \"Cascareau\", \"Comum\", \"Enxurrada é a amostra de DNA do Omnitrix de um Cascano do planeta Cascareau\"],\n",
    "\n",
    "    # Raro\n",
    "    \"Massa Cinzenta\": [\"Ben 10\", \"Galvan Prime\", \"Raro\", \"Massa Cinzenta é a amostra de DNA do Omnitrix de um Galvan do planeta Galvan Prime\"],\n",
    "    \"Friagem\": [\"Uma Artimanha do Kevin\", \"Kylmyys\", \"Raro\", \"Friagem é a amostra de DNA do Omnitrix de um Necrofriggiano do planeta Kylmyys.\"],\n",
    "    \"Insectóide\": [\"Ben 10\", \"Lepidopterra\", \"Raro\", \"Insectóide é a amostra de DNA do Omnitrix de um Lepidopterrano do planeta Lepidopterra\"],\n",
    "    \"Idem\": [\"Ben 10\", \"Hathor\", \"Raro\", \"Idem, anteriormente Clone, é a amostra de DNA do Omnitrix de um Splixion do planeta Hathor\"],\n",
    "    \"Vompiro\": [\"Ben 10\", \"Anur Vladias\", \"Raro\", \"Vompiro é a amostra de DNA do Omnitrix da extinta espécie Vladat do planeta Anur Vladias\"],\n",
    "    \"Ultra T\": [\"Ben 10: Omniverse\", \"Galvan B\", \"Raro\", \"Ultra T é a amostra de DNA do Omnitrix de um Mecamorfo galvânico da lua Galvan B\"],\n",
    "    \"Tapinha\": [\"Ben 10: Supremacia Alienígena\", \"Ekoplekton\", \"Raro\", \"Tapinha é a amostra de DNA do Omnitrix de um Ekoplektoid do planeta Ekoplekton\"],\n",
    "    \"Tartagira\": [\"Ben 10: Supremacia Alienígena\", \"Aldabra\", \"Raro\", \"Tartagira é a amostra de DNA do Omnitrix de um Geochelone aerio do planeta Aldabra\"],\n",
    "    \"Sr.Macaco\": [\"Ben 10: Omniverse\", \"Aranhascimmia\", \"Raro\", \"Sr. Macaco é a amostra de DNA do Relógio do Herói de um Arachnachimp do planeta Aranhascimmia. É a versão de Ben 23 do Macaco-Aranha\"],\n",
    "\n",
    "\n",
    "    # Épico\n",
    "    \"Acelerado\": [\"Ben 10: Supremacia Alienígena\", \"Chalybeas\", \"Épico\", \"Acelerado é a amostra de DNA do Omnitrix de um Citrakayah do planeta Chalybeas\"],\n",
    "    \"Rath\": [\"Ben 10: Força Alienígena\", \"Appoplexia\", \"Épico\", \"Rath, anteriormente Irado, é a amostra de DNA do Omnitrix de um Appoplexiano do planeta Appoplexia\"],\n",
    "    \"Mr. Mucky\": [\"Ben 10: Omniverse\", \"Methanos\", \"Épico\", \"Mr. Mucky é a amostra de DNA do Relógio do Herói de um Metanosiano do planeta Methanos. É a versão de Ben 23 do Fogo Fátuo\"],\n",
    "    \"Eco Eco\": [\"Ben 10: Força Alienígena\", \"Sonorosia\", \"Épico\", \"Eco Eco é a amostra de DNA do Omnitrix de um Sonorosiano do planeta Sonorosia\"],\n",
    "\n",
    "    # Único\n",
    "    \"Alien X\": [\"Ben 10: Força Alienígena\", \"Centro da Criação\", \"Único\", \"Alien X é a amostra de DNA do Omnitrix de um Sapien Celestial do Centro da Criação\"],\n",
    "}\n"
   ]
  },
  {
   "cell_type": "code",
   "execution_count": 4,
   "metadata": {},
   "outputs": [
    {
     "name": "stdout",
     "output_type": "stream",
     "text": [
      "1, 'Chama', 'E Então Eram 10', 'Pyros', 'Comum', 'Chama é a amostra de DNA do Omnitrix de um Pyronite da estrela Pyros'\n",
      "2, 'Enormossauro', 'O Retorno de Ben 10: Parte 2', 'Terradiano', 'Comum', 'Enormossauro é a amostra de DNA do Omnitrix de um Vaxassauro'\n",
      "3, 'Bala de canhão', 'O Grande Carrapato', 'Arburia (destruído)', 'Comum', 'Bala de canhão é a amostra de DNA do Omnitrix de um Pelarota Arburiano do planeta Arburia'\n",
      "4, 'Artrópode', 'Ben 10: Força Alienígena', 'Encephalonus IV', 'Comum', 'Artrópode é a amostra de DNA do Omnitrix de um Cerebrocrustaceano do planeta Encephalonus IV'\n",
      "5, 'Gosma', 'Ben 10: Força Alienígena', 'Viscosia', 'Comum', 'Gosma é a amostra de DNA do Omnitrix de um Polymorpho do planeta Viscosia'\n",
      "6, 'Quatro Braços', 'Ben 10', 'Khoros', 'Comum', 'Quatro Braços é a amostra de DNA do Omnitrix de um Tetramando do planeta Khoros'\n",
      "7, 'XLR8', 'Ben 10', 'Kinet', 'Comum', 'XLR8 é a amostra de DNA do Omnitrix de um Kinecelerano do planeta Kinet1'\n",
      "8, 'Enxurrada', 'Ben 10', 'Cascareau', 'Comum', 'Enxurrada é a amostra de DNA do Omnitrix de um Cascano do planeta Cascareau'\n",
      "9, 'Massa Cinzenta', 'Ben 10', 'Galvan Prime', 'Raro', 'Massa Cinzenta é a amostra de DNA do Omnitrix de um Galvan do planeta Galvan Prime'\n",
      "10, 'Friagem', 'Uma Artimanha do Kevin', 'Kylmyys', 'Raro', 'Friagem é a amostra de DNA do Omnitrix de um Necrofriggiano do planeta Kylmyys.'\n",
      "11, 'Insectóide', 'Ben 10', 'Lepidopterra', 'Raro', 'Insectóide é a amostra de DNA do Omnitrix de um Lepidopterrano do planeta Lepidopterra'\n",
      "12, 'Idem', 'Ben 10', 'Hathor', 'Raro', 'Idem, anteriormente Clone, é a amostra de DNA do Omnitrix de um Splixion do planeta Hathor'\n",
      "13, 'Vompiro', 'Ben 10', 'Anur Vladias', 'Raro', 'Vompiro é a amostra de DNA do Omnitrix da extinta espécie Vladat do planeta Anur Vladias'\n",
      "14, 'Ultra T', 'Ben 10: Omniverse', 'Galvan B', 'Raro', 'Ultra T é a amostra de DNA do Omnitrix de um Mecamorfo galvânico da lua Galvan B'\n",
      "15, 'Tapinha', 'Ben 10: Supremacia Alienígena', 'Ekoplekton', 'Raro', 'Tapinha é a amostra de DNA do Omnitrix de um Ekoplektoid do planeta Ekoplekton'\n",
      "16, 'Tartagira', 'Ben 10: Supremacia Alienígena', 'Aldabra', 'Raro', 'Tartagira é a amostra de DNA do Omnitrix de um Geochelone aerio do planeta Aldabra'\n",
      "17, 'Sr.Macaco', 'Ben 10: Omniverse', 'Aranhascimmia', 'Raro', 'Sr. Macaco é a amostra de DNA do Relógio do Herói de um Arachnachimp do planeta Aranhascimmia. É a versão de Ben 23 do Macaco-Aranha'\n",
      "18, 'Acelerado', 'Ben 10: Supremacia Alienígena', 'Chalybeas', 'Épico', 'Acelerado é a amostra de DNA do Omnitrix de um Citrakayah do planeta Chalybeas'\n",
      "19, 'Rath', 'Ben 10: Força Alienígena', 'Appoplexia', 'Épico', 'Rath, anteriormente Irado, é a amostra de DNA do Omnitrix de um Appoplexiano do planeta Appoplexia'\n",
      "20, 'Mr. Mucky', 'Ben 10: Omniverse', 'Methanos', 'Épico', 'Mr. Mucky é a amostra de DNA do Relógio do Herói de um Metanosiano do planeta Methanos. É a versão de Ben 23 do Fogo Fátuo'\n",
      "21, 'Eco Eco', 'Ben 10: Força Alienígena', 'Sonorosia', 'Épico', 'Eco Eco é a amostra de DNA do Omnitrix de um Sonorosiano do planeta Sonorosia'\n",
      "22, 'Alien X', 'Ben 10: Força Alienígena', 'Centro da Criação', 'Único', 'Alien X é a amostra de DNA do Omnitrix de um Sapien Celestial do Centro da Criação'\n"
     ]
    }
   ],
   "source": [
    "id = 1\n",
    "for nome in alien:\n",
    "    \n",
    "    aparicao = alien[nome][0]\n",
    "    planeta = alien[nome][1]\n",
    "    raridade = alien[nome][2]\n",
    "    descricao = alien[nome][3]\n",
    "\n",
    "    print(f\"{id}, '{nome}', '{aparicao}', '{planeta}', '{raridade}', '{descricao}'\")\n",
    "\n",
    "    mycursor.execute(f\"\"\"insert into figurinhas (id_figurinha, nome_figurinha, aparicao_figurinha, planeta_figurinha, raridade_figurinha, descricao_figurinha)\n",
    "    values ({id}, '{nome}', '{aparicao}', '{planeta}', '{raridade}', '{descricao}');\"\"\")\n",
    "    mydb.commit()\n",
    "\n",
    "    id += 1"
   ]
  }
 ],
 "metadata": {
  "kernelspec": {
   "display_name": "Python 3.10.5 64-bit",
   "language": "python",
   "name": "python3"
  },
  "language_info": {
   "codemirror_mode": {
    "name": "ipython",
    "version": 3
   },
   "file_extension": ".py",
   "mimetype": "text/x-python",
   "name": "python",
   "nbconvert_exporter": "python",
   "pygments_lexer": "ipython3",
   "version": "3.10.5"
  },
  "orig_nbformat": 4,
  "vscode": {
   "interpreter": {
    "hash": "fc59034749cad9d670029b6695745285f41900140096e9aa5fc07c99ab832acf"
   }
  }
 },
 "nbformat": 4,
 "nbformat_minor": 2
}
